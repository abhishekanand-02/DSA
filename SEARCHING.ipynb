{
 "cells": [
  {
   "cell_type": "markdown",
   "id": "0eadb06e-24f7-4c27-8ea7-73dd489456e8",
   "metadata": {},
   "source": [
    "# Linear Search"
   ]
  },
  {
   "cell_type": "code",
   "execution_count": 18,
   "id": "64785f4c-1dd8-4682-90a7-2acb5e4eb67d",
   "metadata": {},
   "outputs": [
    {
     "name": "stdout",
     "output_type": "stream",
     "text": [
      "Element is present at index : 4\n"
     ]
    }
   ],
   "source": [
    "def LinearSearch(arr,element):\n",
    "    for i in range(len(arr)):\n",
    "        if(arr[i] == element):\n",
    "            return i\n",
    "\n",
    "    return -1\n",
    "\n",
    "\n",
    "arr=[1,2,4,5,32]\n",
    "element = 32\n",
    "\n",
    "result = LinearSearch(arr,element)\n",
    "print(\"Element is present at index :\",result)"
   ]
  },
  {
   "cell_type": "code",
   "execution_count": null,
   "id": "e0d92699-5a45-4355-adb9-694aa3b105ff",
   "metadata": {},
   "outputs": [],
   "source": []
  },
  {
   "cell_type": "markdown",
   "id": "941580ef-cc26-4f7a-8e42-57882dee90db",
   "metadata": {},
   "source": [
    "# Binary Search"
   ]
  },
  {
   "cell_type": "markdown",
   "id": "561eee79-c89a-4fa1-b878-e208bb94ea91",
   "metadata": {},
   "source": [
    "## Iterative Binary Search"
   ]
  },
  {
   "cell_type": "code",
   "execution_count": 29,
   "id": "dd7dfdac-0bd5-46d8-bcda-b4019ad41624",
   "metadata": {},
   "outputs": [
    {
     "name": "stdout",
     "output_type": "stream",
     "text": [
      "Element is present at index: 1\n"
     ]
    }
   ],
   "source": [
    "def BinarySearch(start, end, arr, element):\n",
    "    while start <= end:\n",
    "        mid = start +(end - start)//2\n",
    "\n",
    "        if arr[mid] == element:\n",
    "            return mid\n",
    "        elif arr[mid] > element:\n",
    "            end = mid - 1\n",
    "        else:\n",
    "            start = mid + 1\n",
    "    return -1\n",
    "\n",
    "arr = [1, 2, 3, 4, 5, 6, 7, 8, 9, 32]\n",
    "element = 2\n",
    "start = 0\n",
    "end = len(arr) - 1\n",
    "\n",
    "result = BinarySearch(start, end, arr, element)\n",
    "print(\"Element is present at index:\", result)\n"
   ]
  },
  {
   "cell_type": "markdown",
   "id": "fe7d7425-bc71-4dcd-9872-4b26beba3444",
   "metadata": {},
   "source": [
    "## Recursive Binary Search"
   ]
  },
  {
   "cell_type": "code",
   "execution_count": 30,
   "id": "c9decf4a-d298-4821-9b1a-3edb5b3423c7",
   "metadata": {},
   "outputs": [
    {
     "name": "stdout",
     "output_type": "stream",
     "text": [
      "Element is present at index: 8\n"
     ]
    }
   ],
   "source": [
    "def BinarySearch(start, end, arr, element):\n",
    "    if start <= end:\n",
    "        mid = start +(end - start)//2\n",
    "\n",
    "        if arr[mid] == element:\n",
    "            return mid\n",
    "        elif arr[mid] > element:\n",
    "            return BinarySearch(start, mid - 1, arr, element)\n",
    "        else:\n",
    "            return BinarySearch(mid + 1, end, arr, element)\n",
    "    return -1\n",
    "\n",
    "arr = [1, 2, 3, 4, 5, 6, 7, 8, 9, 32]\n",
    "element = 9\n",
    "start = 0\n",
    "end = len(arr) - 1\n",
    "\n",
    "result = BinarySearch(start, end, arr, element)\n",
    "print(\"Element is present at index:\", result)\n"
   ]
  },
  {
   "cell_type": "code",
   "execution_count": null,
   "id": "8084d316-4c71-4ea5-8fb5-9770a23822cd",
   "metadata": {},
   "outputs": [],
   "source": []
  },
  {
   "cell_type": "markdown",
   "id": "80f02eda-5430-4c35-990c-d0ed75a725d3",
   "metadata": {},
   "source": [
    "# Ternary search"
   ]
  },
  {
   "cell_type": "markdown",
   "id": "3839c7e3-355f-4f3c-bd49-30586b647e74",
   "metadata": {},
   "source": [
    "## Recursive Ternary Search ---> TC = O(log3n) and SC = O(log3n) Recursion uses the call stack"
   ]
  },
  {
   "cell_type": "code",
   "execution_count": 35,
   "id": "0a9e6264-71ba-419c-859d-8cc8f3107b95",
   "metadata": {},
   "outputs": [
    {
     "name": "stdout",
     "output_type": "stream",
     "text": [
      "Element is present at index: -1\n"
     ]
    }
   ],
   "source": [
    "def TernarySearch(start, end, arr, element) -> int:\n",
    "    if start <= end:\n",
    "        mid1 = start + (end - start) // 3\n",
    "        mid2 = end - (end - start) // 3\n",
    "\n",
    "        if arr[mid1] == element:\n",
    "            return mid1\n",
    "        if arr[mid2] == element:\n",
    "            return mid2\n",
    "\n",
    "        if element < arr[mid1]:\n",
    "            return TernarySearch(start, mid1 - 1, arr, element)\n",
    "        elif element > arr[mid2]:\n",
    "            return TernarySearch(mid2 + 1, end, arr, element)\n",
    "        else:\n",
    "            return TernarySearch(mid1 + 1, mid2 - 1, arr, element)\n",
    "\n",
    "    return -1\n",
    "\n",
    "\n",
    "arr = [1, 2, 3, 4, 5, 6, 7, 8, 9, 32]\n",
    "element = 323\n",
    "start = 0\n",
    "end = len(arr) - 1\n",
    "\n",
    "result = TernarySearch(start, end, arr, element)\n",
    "print(\"Element is present at index:\", result)\n"
   ]
  },
  {
   "cell_type": "markdown",
   "id": "3cd4f14d-20ef-490f-8fda-7db55433ba71",
   "metadata": {},
   "source": [
    "## Iterative Ternary Search ---> TC = O(log3n) and SC = O(1)"
   ]
  },
  {
   "cell_type": "code",
   "execution_count": 41,
   "id": "8353494a-6f19-4c12-a254-61db11390347",
   "metadata": {},
   "outputs": [
    {
     "name": "stdout",
     "output_type": "stream",
     "text": [
      "Element is present at index: 9\n"
     ]
    }
   ],
   "source": [
    "def TernarySearch(start, end, arr, element) -> int:\n",
    "    while start <= end:\n",
    "        mid1 = start + (end - start) // 3\n",
    "        mid2 = end - (end - start) // 3\n",
    "\n",
    "        if arr[mid1] == element:\n",
    "            return mid1\n",
    "        if arr[mid2] == element:\n",
    "            return mid2\n",
    "\n",
    "        if element < arr[mid1]:\n",
    "            end = mid1 - 1\n",
    "        elif element > arr[mid2]:\n",
    "            start = mid2 + 1\n",
    "        else:\n",
    "            start = mid1 + 1\n",
    "            end = mid2 - 1\n",
    "\n",
    "    return -1\n",
    "\n",
    "\n",
    "arr = [1, 2, 3, 4, 5, 6, 7, 8, 9, 32]\n",
    "element = 32\n",
    "start = 0\n",
    "end = len(arr) - 1\n",
    "\n",
    "result = TernarySearch(start, end, arr, element)\n",
    "print(\"Element is present at index:\", result)\n"
   ]
  },
  {
   "cell_type": "code",
   "execution_count": null,
   "id": "dfddefef-2946-43a4-b399-a873e03940f5",
   "metadata": {},
   "outputs": [],
   "source": []
  }
 ],
 "metadata": {
  "kernelspec": {
   "display_name": "Python 3 (ipykernel)",
   "language": "python",
   "name": "python3"
  },
  "language_info": {
   "codemirror_mode": {
    "name": "ipython",
    "version": 3
   },
   "file_extension": ".py",
   "mimetype": "text/x-python",
   "name": "python",
   "nbconvert_exporter": "python",
   "pygments_lexer": "ipython3",
   "version": "3.13.5"
  }
 },
 "nbformat": 4,
 "nbformat_minor": 5
}
