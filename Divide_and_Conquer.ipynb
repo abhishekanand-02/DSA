{
 "cells": [
  {
   "cell_type": "markdown",
   "id": "53f7edbd-0a3e-4b91-bcf0-31040d77b6a7",
   "metadata": {},
   "source": [
    "# Finding Maxima and Minima"
   ]
  },
  {
   "cell_type": "code",
   "execution_count": 12,
   "id": "6159b673-4bc9-4321-8473-8bd2304d60b3",
   "metadata": {},
   "outputs": [
    {
     "name": "stdout",
     "output_type": "stream",
     "text": [
      "Maximum and minimum number is: (90, 10)\n"
     ]
    }
   ],
   "source": [
    "def findMaximaMinima(arr, i, j):\n",
    "    # if there is only one element\n",
    "    if i == j:\n",
    "        maximum  = arr[i]\n",
    "        minimum = arr[i]\n",
    "    \n",
    "    # if there are only two elements\n",
    "    elif j == i + 1:\n",
    "        if arr[i] > arr[j]:\n",
    "            maximum = arr[i]\n",
    "            minimum = arr[j]\n",
    "        else:\n",
    "            maximum = arr[j]\n",
    "            minimum = arr[i]\n",
    "    \n",
    "    else:\n",
    "        mid = (i + j) // 2\n",
    "        maxL, minL = findMaximaMinima(arr, i, mid)\n",
    "        maxR, minR = findMaximaMinima(arr, mid + 1, j)\n",
    "        \n",
    "        maximum = max(maxL, maxR)\n",
    "        minimum = min(minL, minR)\n",
    "\n",
    "    return (maximum, minimum)\n",
    "\n",
    "# Driver code\n",
    "arr = [10, 30, 40, 60, 30, 50, 90]\n",
    "i = 0\n",
    "j = len(arr) - 1\n",
    "result = findMaximaMinima(arr, i, j)\n",
    "print(\"Maximum and minimum number is:\", result)\n"
   ]
  },
  {
   "cell_type": "markdown",
   "id": "f6de0bd1-f7af-42c6-8fd0-59e61cce25bc",
   "metadata": {},
   "source": []
  },
  {
   "cell_type": "markdown",
   "id": "aa7b73b2-2351-4a93-8913-4ac7b76cdcb1",
   "metadata": {},
   "source": [
    "# Finding Power of an Element"
   ]
  },
  {
   "cell_type": "code",
   "execution_count": 3,
   "id": "c197c350-120f-480e-8a8b-412f4ee2e1d4",
   "metadata": {},
   "outputs": [
    {
     "name": "stdout",
     "output_type": "stream",
     "text": [
      "The power of 2^10 is :  1024\n"
     ]
    }
   ],
   "source": [
    "def findPower(a,n):\n",
    "    if n == 0:\n",
    "        return 1\n",
    "    if n == 1:\n",
    "        return a\n",
    "    else:\n",
    "        mid = n//2\n",
    "        b = findPower(a,mid)\n",
    "        result = b*b\n",
    "        if n % 2 == 0:\n",
    "            return result\n",
    "        else:\n",
    "            return result*a\n",
    "\n",
    "\n",
    "a= 2\n",
    "n = 10\n",
    "result = findPower(a,n)\n",
    "print(f\"The power of {a}^{n} is : \",result)"
   ]
  },
  {
   "cell_type": "code",
   "execution_count": null,
   "id": "01178e88-c66b-4256-a7a1-5d1d8392c864",
   "metadata": {},
   "outputs": [],
   "source": []
  },
  {
   "cell_type": "markdown",
   "id": "b7e1ec75-2270-4f7b-bcab-26e3f9873bac",
   "metadata": {},
   "source": [
    "# 2 Sum Problem Time complexity → O(n²)"
   ]
  },
  {
   "cell_type": "code",
   "execution_count": 6,
   "id": "816c289a-c67a-4cf0-9485-833d33b85812",
   "metadata": {},
   "outputs": [
    {
     "name": "stdout",
     "output_type": "stream",
     "text": [
      "Indexes are at : (0, 3)\n"
     ]
    }
   ],
   "source": [
    "def findSum(arr,target):\n",
    "    n = len(arr)\n",
    "    for i in range(0,n):\n",
    "        for j in range(i+1,n):\n",
    "            if(arr[i] + arr[j] == target):\n",
    "                return i,j\n",
    "    return None\n",
    "                \n",
    "\n",
    "arr = [10,20,30,40,50,60]\n",
    "target = 50\n",
    "result = findSum(arr,target)\n",
    "print(\"Indexes are at :\", result)"
   ]
  },
  {
   "cell_type": "code",
   "execution_count": null,
   "id": "4f1ce609-de94-436c-bb00-1c53de7212b6",
   "metadata": {},
   "outputs": [],
   "source": []
  },
  {
   "cell_type": "markdown",
   "id": "a7c84dea-877e-4923-afef-882908c98a20",
   "metadata": {},
   "source": [
    "# 2 Pointer Approach Time complexity → O(n)"
   ]
  },
  {
   "cell_type": "code",
   "execution_count": 10,
   "id": "ac59ac58-c0aa-46de-8204-f80b0c0b48d0",
   "metadata": {},
   "outputs": [
    {
     "name": "stdout",
     "output_type": "stream",
     "text": [
      "Indexes are at : (-1, -1)\n"
     ]
    }
   ],
   "source": [
    "def findPair(arr,target):\n",
    "    start =0\n",
    "    end = len(arr)-1\n",
    "    for i in range(end):\n",
    "        if arr[start]+ arr[end] == target:\n",
    "            return start,end\n",
    "        elif arr[start] + arr[end] > target:\n",
    "            end = end - 1\n",
    "        else:\n",
    "            start = start + 1\n",
    "    return -1,-1\n",
    "\n",
    "\n",
    "arr = [10,20,30,40,50,60]\n",
    "target = 120\n",
    "result = findPair(arr,target)\n",
    "print(\"Indexes are at :\", result)"
   ]
  },
  {
   "cell_type": "code",
   "execution_count": null,
   "id": "5c08066d-69b3-49ee-88a6-9da26e5132ec",
   "metadata": {},
   "outputs": [],
   "source": []
  },
  {
   "cell_type": "markdown",
   "id": "684932e7-a8af-443c-8836-384bc4cb2e88",
   "metadata": {},
   "source": []
  }
 ],
 "metadata": {
  "kernelspec": {
   "display_name": "Python 3 (ipykernel)",
   "language": "python",
   "name": "python3"
  },
  "language_info": {
   "codemirror_mode": {
    "name": "ipython",
    "version": 3
   },
   "file_extension": ".py",
   "mimetype": "text/x-python",
   "name": "python",
   "nbconvert_exporter": "python",
   "pygments_lexer": "ipython3",
   "version": "3.13.5"
  }
 },
 "nbformat": 4,
 "nbformat_minor": 5
}
