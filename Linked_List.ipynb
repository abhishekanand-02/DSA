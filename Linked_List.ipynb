{
 "cells": [
  {
   "cell_type": "markdown",
   "id": "c0c5a8df-4b4c-4bc5-9f50-7624da145311",
   "metadata": {},
   "source": [
    "## Insertion of node in a linked list - > FRONT"
   ]
  },
  {
   "cell_type": "code",
   "execution_count": 17,
   "id": "78efa9d5-93e3-4625-a60b-69900c07dae4",
   "metadata": {},
   "outputs": [],
   "source": [
    "class Node:\n",
    "    def __init__(self,data):\n",
    "        self.data = data \n",
    "        self.next = None\n",
    "\n",
    "class LinkedList:\n",
    "    def __init__(self):\n",
    "        self.head = None\n",
    "\n",
    "    def InsertATBegining(self,new_data):\n",
    "        new_node  = Node(new_data)\n",
    "        new_node.next = self.head\n",
    "        self.head = new_node\n",
    "\n",
    "    def printLL(self):\n",
    "        temp = self.head\n",
    "        while temp:\n",
    "            print(str(temp.data) + \"-> \",end = \" \")\n",
    "            temp = temp.next\n",
    "        print(\"None\")\n"
   ]
  },
  {
   "cell_type": "code",
   "execution_count": 18,
   "id": "19c8af53-c7cd-4823-b90e-62c1677f1f28",
   "metadata": {},
   "outputs": [
    {
     "name": "stdout",
     "output_type": "stream",
     "text": [
      "10->  20->  None\n"
     ]
    }
   ],
   "source": [
    "llist = LinkedList()\n",
    "# function calling \n",
    "llist.InsertATBegining(20)\n",
    "llist.InsertATBegining(10)\n",
    "\n",
    "llist.printLL()"
   ]
  },
  {
   "cell_type": "code",
   "execution_count": 19,
   "id": "d1be46a8-e6f1-418f-968d-6c415a1f2b51",
   "metadata": {},
   "outputs": [],
   "source": [
    "llist.InsertATBegining(5)"
   ]
  },
  {
   "cell_type": "code",
   "execution_count": 20,
   "id": "19580e71-1f8b-42ca-8a52-e4542ba68fac",
   "metadata": {},
   "outputs": [
    {
     "name": "stdout",
     "output_type": "stream",
     "text": [
      "5->  10->  20->  None\n"
     ]
    }
   ],
   "source": [
    "llist.printLL()"
   ]
  },
  {
   "cell_type": "code",
   "execution_count": null,
   "id": "24226c86-ee36-407a-8e4f-3ba6822f81d1",
   "metadata": {},
   "outputs": [],
   "source": []
  },
  {
   "cell_type": "markdown",
   "id": "90017c12-a18c-4620-ab94-de6ff6b29869",
   "metadata": {},
   "source": [
    "## Insertion of Node in a Linked list -> End"
   ]
  },
  {
   "cell_type": "code",
   "execution_count": 33,
   "id": "a77f89fd-1d95-431c-a2dd-3ad17f3523fa",
   "metadata": {},
   "outputs": [],
   "source": [
    "class Node:\n",
    "    def __init__(self, data):\n",
    "        self.data = data\n",
    "        self.next = None\n",
    "\n",
    "\n",
    "class LinkedList:\n",
    "    def __init__(self):\n",
    "        self.head = None\n",
    "\n",
    "    def InsertATEnd(self, new_data):\n",
    "        new_node = Node(new_data)\n",
    "        if self.head is None:  # If list is empty\n",
    "            self.head = new_node\n",
    "            return\n",
    "\n",
    "        temp = self.head\n",
    "        while temp.next:\n",
    "            temp = temp.next\n",
    "        temp.next = new_node\n",
    "\n",
    "    def InsertAfterNode(self, prev_data, new_data):\n",
    "        temp = self.head\n",
    "\n",
    "        while temp:\n",
    "            if temp.data == prev_data:\n",
    "                break\n",
    "            temp = temp.next\n",
    "\n",
    "        if temp is None:\n",
    "            print(f\"Node with data {prev_data} not found.\")\n",
    "            return\n",
    "\n",
    "        new_node = Node(new_data)\n",
    "        new_node.next = temp.next\n",
    "        temp.next = new_node\n",
    "\n",
    "    def InsertAtPosition(self, position, new_data):\n",
    "        new_node = Node(new_data)\n",
    "\n",
    "        # If inserting at the beginning (position = 1)\n",
    "        if position == 1:\n",
    "            new_node.next = self.head\n",
    "            self.head = new_node\n",
    "            return\n",
    "\n",
    "        temp = self.head\n",
    "        count = 1\n",
    "\n",
    "        # Traverse to the node before the desired position\n",
    "        while temp and count < position - 1:\n",
    "            temp = temp.next\n",
    "            count += 1\n",
    "\n",
    "        if temp is None:\n",
    "            print(\"Position out of range.\")\n",
    "            return\n",
    "\n",
    "        new_node.next = temp.next\n",
    "        temp.next = new_node\n",
    "\n",
    "    def printll(self):\n",
    "        temp = self.head\n",
    "        while temp:\n",
    "            print(str(temp.data) + \"-> \", end=\"\")\n",
    "            temp = temp.next\n",
    "        print(\"None\")\n"
   ]
  },
  {
   "cell_type": "code",
   "execution_count": 34,
   "id": "ee72809c-232c-46e5-ad5c-6c79e89c77b1",
   "metadata": {},
   "outputs": [
    {
     "name": "stdout",
     "output_type": "stream",
     "text": [
      "20-> 30-> None\n"
     ]
    }
   ],
   "source": [
    "llist = LinkedList()\n",
    "\n",
    "llist.InsertATEnd(20)\n",
    "llist.InsertATEnd(30)\n",
    "\n",
    "llist.printll()"
   ]
  },
  {
   "cell_type": "code",
   "execution_count": 36,
   "id": "5755ddd1-f4eb-4d01-850c-b702b7e882e5",
   "metadata": {},
   "outputs": [
    {
     "name": "stdout",
     "output_type": "stream",
     "text": [
      "20-> 30-> 40-> 40-> None\n"
     ]
    }
   ],
   "source": [
    "llist.InsertATEnd(40)\n",
    "llist.printll()"
   ]
  },
  {
   "cell_type": "code",
   "execution_count": null,
   "id": "71d8c96e-3c31-4049-a095-b3d9b528ef83",
   "metadata": {},
   "outputs": [],
   "source": []
  },
  {
   "cell_type": "code",
   "execution_count": null,
   "id": "65c44df4-5e17-418a-ad23-57b8625b6486",
   "metadata": {},
   "outputs": [],
   "source": []
  }
 ],
 "metadata": {
  "kernelspec": {
   "display_name": "Python 3 (ipykernel)",
   "language": "python",
   "name": "python3"
  },
  "language_info": {
   "codemirror_mode": {
    "name": "ipython",
    "version": 3
   },
   "file_extension": ".py",
   "mimetype": "text/x-python",
   "name": "python",
   "nbconvert_exporter": "python",
   "pygments_lexer": "ipython3",
   "version": "3.13.5"
  }
 },
 "nbformat": 4,
 "nbformat_minor": 5
}
