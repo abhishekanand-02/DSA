{
 "cells": [
  {
   "cell_type": "markdown",
   "id": "375dc58e-fd9a-4cd3-b9cb-f8dcb45579c6",
   "metadata": {},
   "source": [
    "# Bubble Sort"
   ]
  },
  {
   "cell_type": "code",
   "execution_count": 2,
   "id": "0234493c-5c4f-42fd-b36b-34f161f24895",
   "metadata": {},
   "outputs": [
    {
     "name": "stdout",
     "output_type": "stream",
     "text": [
      "Array after sorting: [10, 20, 30, 40, 50, 60]\n"
     ]
    }
   ],
   "source": [
    "# Method Definition\n",
    "def BubbleSort(arr):\n",
    "    n = len(arr)\n",
    "    for i in range(0,n-1):\n",
    "        for j in range(0,n-i-1):\n",
    "            if(arr[j] > arr[j+1]):\n",
    "                arr[j],arr[j+1] = arr[j+1], arr[j]\n",
    "    return arr\n",
    "\n",
    "\n",
    "\n",
    "# Driver Code \n",
    "arr = [10,30,20,50,60,40]\n",
    "result=BubbleSort(arr)\n",
    "print(\"Array after sorting:\", result)"
   ]
  },
  {
   "cell_type": "code",
   "execution_count": null,
   "id": "65b476be-ef1a-4514-a64f-76edaec79b20",
   "metadata": {},
   "outputs": [],
   "source": []
  },
  {
   "cell_type": "markdown",
   "id": "f7f91cd7-35f2-4f4d-9459-cd7776048338",
   "metadata": {},
   "source": [
    "# Selection Sort"
   ]
  },
  {
   "cell_type": "code",
   "execution_count": 5,
   "id": "555a1be3-37d5-4ec8-bcb9-69c708875421",
   "metadata": {},
   "outputs": [
    {
     "name": "stdout",
     "output_type": "stream",
     "text": [
      "Array after sorting: [10, 20, 30, 40, 50, 60]\n"
     ]
    }
   ],
   "source": [
    "def SelectionSort(arr):\n",
    "    n = len(arr)\n",
    "    for i in range(n):\n",
    "        minimum_index = i\n",
    "        for j in range(i+1,n):\n",
    "            if(arr[j] < arr[minimum_index]):\n",
    "                minimum_index = j\n",
    "        arr[i],arr[minimum_index]= arr[minimum_index], arr[i]\n",
    "    return arr\n",
    "\n",
    "\n",
    "# Driver Code \n",
    "arr = [10,30,20,50,60,40]\n",
    "result=SelectionSort(arr)\n",
    "print(\"Array after sorting:\", result)"
   ]
  },
  {
   "cell_type": "code",
   "execution_count": null,
   "id": "f26162a3-0197-49fe-a478-91da5fbecd45",
   "metadata": {},
   "outputs": [],
   "source": []
  },
  {
   "cell_type": "markdown",
   "id": "944dc80a-4b65-4265-a458-c8c36513a276",
   "metadata": {},
   "source": [
    "# Insertion Sort"
   ]
  },
  {
   "cell_type": "code",
   "execution_count": 3,
   "id": "5f779702-b4d6-40a8-9307-44746b30e873",
   "metadata": {},
   "outputs": [
    {
     "name": "stdout",
     "output_type": "stream",
     "text": [
      "Array after sorting: [10, 20, 30, 40, 50, 60]\n"
     ]
    }
   ],
   "source": [
    "def InsertionSort(arr):\n",
    "    n = len(arr)\n",
    "    for i in range(1, n):\n",
    "        key = arr[i]\n",
    "        j=i-1\n",
    "\n",
    "        while j>= 0 and key < arr[j]:\n",
    "            arr[j+1] = arr[j]\n",
    "            j= j - 1\n",
    "\n",
    "        arr[j+1] = key\n",
    "    return arr\n",
    "        \n",
    "        \n",
    "# Driver Code \n",
    "arr = [10,30,20,50,60,40]\n",
    "# arr = [10, 20, 30, 40, 50, 60]\n",
    "result=InsertionSort(arr)\n",
    "print(\"Array after sorting:\", result)"
   ]
  },
  {
   "cell_type": "code",
   "execution_count": null,
   "id": "abb4f306-3c45-4d33-9f95-e15e669ba688",
   "metadata": {},
   "outputs": [],
   "source": []
  },
  {
   "cell_type": "markdown",
   "id": "87573828-1aaf-46ea-a836-6b59f69ecb6f",
   "metadata": {},
   "source": [
    "# Merge Sort TC is O(n log n)"
   ]
  },
  {
   "cell_type": "code",
   "execution_count": 3,
   "id": "f3646375-47c3-452e-a0c2-c19d37687eae",
   "metadata": {},
   "outputs": [
    {
     "name": "stdout",
     "output_type": "stream",
     "text": [
      "Array after sorting is :  [13, 27, 50, 62, 65, 70, 80, 98]\n"
     ]
    }
   ],
   "source": [
    "def MergeSort(arr, i, j):\n",
    "    if i < j:\n",
    "        mid = i + (j - i) // 2\n",
    "        MergeSort(arr, i, mid)\n",
    "        MergeSort(arr, mid + 1, j)\n",
    "        mergeProcedure(arr, i, mid, j)\n",
    "    return arr\n",
    "\n",
    "\n",
    "def mergeProcedure(arr,i,mid ,j):\n",
    "    n1  = mid - i + 1 # Number of elements in left subarray\n",
    "    n2 = j - mid # Number of elements in right subarray\n",
    "\n",
    "    leftsubarray = [0]* n1\n",
    "    rightsubarray = [0]*n2\n",
    "\n",
    "    # Copy the elements from an array to the subarray\n",
    "    for m in range(n1):\n",
    "        leftsubarray[m] = arr[i+m]\n",
    "    for n in range(n2):\n",
    "        rightsubarray[n] = arr[mid + 1 + n]\n",
    "\n",
    "    p=0\n",
    "    q=0\n",
    "    k=i\n",
    "\n",
    "    while p <n1 and q < n2:\n",
    "        if leftsubarray[p] <= rightsubarray[q]:\n",
    "            arr[k] = leftsubarray[p]\n",
    "            p = p+1\n",
    "        else:\n",
    "            arr[k] = rightsubarray[q]\n",
    "            q= q+1 \n",
    "        k = k + 1\n",
    "    # copy the entire elements from the left subarray\n",
    "    while(p < n1):\n",
    "        arr[k] = leftsubarray[p]\n",
    "        p = p + 1\n",
    "        k = k + 1\n",
    "        \n",
    "    # copy the entire elements from the right subarray\n",
    "    while(q < n2):\n",
    "        arr[k] = rightsubarray[q]\n",
    "        q = q + 1\n",
    "        k = k + 1\n",
    "\n",
    "arr = [50,70,65,13,80,62,98,27]\n",
    "i = 0\n",
    "j = len(arr)-1\n",
    "result = MergeSort(arr,i,j)\n",
    "print(\"Array after sorting is : \", result)"
   ]
  },
  {
   "cell_type": "code",
   "execution_count": null,
   "id": "5e3f6ba5-75d3-4f01-be44-3b33fc342c8e",
   "metadata": {},
   "outputs": [],
   "source": []
  }
 ],
 "metadata": {
  "kernelspec": {
   "display_name": "Python 3 (ipykernel)",
   "language": "python",
   "name": "python3"
  },
  "language_info": {
   "codemirror_mode": {
    "name": "ipython",
    "version": 3
   },
   "file_extension": ".py",
   "mimetype": "text/x-python",
   "name": "python",
   "nbconvert_exporter": "python",
   "pygments_lexer": "ipython3",
   "version": "3.13.5"
  }
 },
 "nbformat": 4,
 "nbformat_minor": 5
}
