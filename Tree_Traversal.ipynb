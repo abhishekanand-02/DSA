{
 "cells": [
  {
   "cell_type": "code",
   "execution_count": 7,
   "id": "7231f0f5-e120-41d2-9af3-b83d628c8193",
   "metadata": {},
   "outputs": [
    {
     "name": "stdout",
     "output_type": "stream",
     "text": [
      "Inorder Traversal:\n",
      "4  2  5  1  3  \n",
      "Preorder Traversal:\n",
      "1  2  4  5  3  \n",
      "Postorder Traversal:\n",
      "4  5  2  3  1  "
     ]
    }
   ],
   "source": [
    "class Node:\n",
    "    def __init__(self, data):\n",
    "        self.data = data\n",
    "        self.left = None\n",
    "        self.right = None\n",
    "        \n",
    "def inorder(root):\n",
    "    if root:\n",
    "        inorder(root.left)\n",
    "        print(str(root.data)+ \" \",end = ' ')\n",
    "        inorder(root.right)\n",
    "\n",
    "def preorder(root):\n",
    "    if root:\n",
    "        print(str(root.data)+ ' ',end = ' ')\n",
    "        preorder(root.left)\n",
    "        preorder(root.right)\n",
    "\n",
    "def postorder(root):\n",
    "    if root:\n",
    "        postorder(root.left)\n",
    "        postorder(root.right)\n",
    "        print(str(root.data)+ ' ',end = ' ')\n",
    "        \n",
    "# Driver code \n",
    "root = Node(1)\n",
    "root.left = Node(2)\n",
    "root.right = Node(3)\n",
    "root.left.left = Node(4)\n",
    "root.left.right = Node(5)\n",
    "print(\"Inorder Traversal:\")\n",
    "inorder(root)\n",
    "\n",
    "print(\"\\nPreorder Traversal:\")\n",
    "preorder(root)\n",
    "\n",
    "\n",
    "print(\"\\nPostorder Traversal:\")\n",
    "postorder(root)"
   ]
  },
  {
   "cell_type": "code",
   "execution_count": null,
   "id": "de836767-d520-4282-ab5f-985b8f46822f",
   "metadata": {},
   "outputs": [],
   "source": []
  }
 ],
 "metadata": {
  "kernelspec": {
   "display_name": "Python 3 (ipykernel)",
   "language": "python",
   "name": "python3"
  },
  "language_info": {
   "codemirror_mode": {
    "name": "ipython",
    "version": 3
   },
   "file_extension": ".py",
   "mimetype": "text/x-python",
   "name": "python",
   "nbconvert_exporter": "python",
   "pygments_lexer": "ipython3",
   "version": "3.13.5"
  }
 },
 "nbformat": 4,
 "nbformat_minor": 5
}
