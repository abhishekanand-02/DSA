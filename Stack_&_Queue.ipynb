{
 "cells": [
  {
   "cell_type": "markdown",
   "id": "77f11823-8c6f-4482-ad55-995231a80a9e",
   "metadata": {},
   "source": [
    "## Implementation of stack using array data structure"
   ]
  },
  {
   "cell_type": "code",
   "execution_count": 1,
   "id": "62bd7802-794f-4956-b219-b02d856327c2",
   "metadata": {},
   "outputs": [],
   "source": [
    "stack = []\n",
    "stack.append('https://leetcode.com/')\n",
    "stack.append('https://leetcode.com/explore/')\n",
    "stack.append('https://leetcode.com/explore/interview/card/leetcodes-interview-crash-course-data-structures-and-algorithms/')"
   ]
  },
  {
   "cell_type": "code",
   "execution_count": 2,
   "id": "5eb32dc6-a990-4847-83a1-fa27f5e1ebf0",
   "metadata": {},
   "outputs": [
    {
     "data": {
      "text/plain": [
       "['https://leetcode.com/',\n",
       " 'https://leetcode.com/explore/',\n",
       " 'https://leetcode.com/explore/interview/card/leetcodes-interview-crash-course-data-structures-and-algorithms/']"
      ]
     },
     "execution_count": 2,
     "metadata": {},
     "output_type": "execute_result"
    }
   ],
   "source": [
    "stack"
   ]
  },
  {
   "cell_type": "code",
   "execution_count": 10,
   "id": "13306ed7-de89-4d8b-80d8-ccf839b32871",
   "metadata": {},
   "outputs": [
    {
     "data": {
      "text/plain": [
       "'https://leetcode.com/explore/interview/card/leetcodes-interview-crash-course-data-structures-and-algorithms/'"
      ]
     },
     "execution_count": 10,
     "metadata": {},
     "output_type": "execute_result"
    }
   ],
   "source": [
    "stack.pop()"
   ]
  },
  {
   "cell_type": "code",
   "execution_count": 11,
   "id": "f3d2c892-4f97-4f32-8860-d1aa0060b4b3",
   "metadata": {},
   "outputs": [
    {
     "data": {
      "text/plain": [
       "['https://leetcode.com/', 'https://leetcode.com/explore/']"
      ]
     },
     "execution_count": 11,
     "metadata": {},
     "output_type": "execute_result"
    }
   ],
   "source": [
    "stack"
   ]
  },
  {
   "cell_type": "code",
   "execution_count": 12,
   "id": "e14f9e88-81b1-44f5-9008-26aaf95f2fac",
   "metadata": {},
   "outputs": [
    {
     "data": {
      "text/plain": [
       "'https://leetcode.com/'"
      ]
     },
     "execution_count": 12,
     "metadata": {},
     "output_type": "execute_result"
    }
   ],
   "source": [
    "stack.pop()\n",
    "stack.pop()"
   ]
  },
  {
   "cell_type": "code",
   "execution_count": 13,
   "id": "990055bf-668a-4da3-ba81-a4173e80469b",
   "metadata": {},
   "outputs": [
    {
     "data": {
      "text/plain": [
       "[]"
      ]
     },
     "execution_count": 13,
     "metadata": {},
     "output_type": "execute_result"
    }
   ],
   "source": [
    "stack"
   ]
  },
  {
   "cell_type": "code",
   "execution_count": null,
   "id": "e4c51af5-44c3-4388-96ff-478aa8ecef58",
   "metadata": {},
   "outputs": [],
   "source": []
  },
  {
   "cell_type": "markdown",
   "id": "00952a3c-7f0e-4a1c-9fed-c96af3e0ca38",
   "metadata": {},
   "source": [
    "## Implementation of stack using circular dequeue"
   ]
  },
  {
   "cell_type": "code",
   "execution_count": 15,
   "id": "2d6533b8-a135-46fe-a217-6f97c399cb83",
   "metadata": {},
   "outputs": [],
   "source": [
    "from collections import deque\n",
    "stack = deque()"
   ]
  },
  {
   "cell_type": "code",
   "execution_count": 16,
   "id": "b079b99a-7a82-4c6a-ad95-8ffda701322a",
   "metadata": {},
   "outputs": [
    {
     "data": {
      "text/plain": [
       "['__add__',\n",
       " '__class__',\n",
       " '__class_getitem__',\n",
       " '__contains__',\n",
       " '__copy__',\n",
       " '__delattr__',\n",
       " '__delitem__',\n",
       " '__dir__',\n",
       " '__doc__',\n",
       " '__eq__',\n",
       " '__format__',\n",
       " '__ge__',\n",
       " '__getattribute__',\n",
       " '__getitem__',\n",
       " '__getstate__',\n",
       " '__gt__',\n",
       " '__hash__',\n",
       " '__iadd__',\n",
       " '__imul__',\n",
       " '__init__',\n",
       " '__init_subclass__',\n",
       " '__iter__',\n",
       " '__le__',\n",
       " '__len__',\n",
       " '__lt__',\n",
       " '__module__',\n",
       " '__mul__',\n",
       " '__ne__',\n",
       " '__new__',\n",
       " '__reduce__',\n",
       " '__reduce_ex__',\n",
       " '__repr__',\n",
       " '__reversed__',\n",
       " '__rmul__',\n",
       " '__setattr__',\n",
       " '__setitem__',\n",
       " '__sizeof__',\n",
       " '__str__',\n",
       " '__subclasshook__',\n",
       " 'append',\n",
       " 'appendleft',\n",
       " 'clear',\n",
       " 'copy',\n",
       " 'count',\n",
       " 'extend',\n",
       " 'extendleft',\n",
       " 'index',\n",
       " 'insert',\n",
       " 'maxlen',\n",
       " 'pop',\n",
       " 'popleft',\n",
       " 'remove',\n",
       " 'reverse',\n",
       " 'rotate']"
      ]
     },
     "execution_count": 16,
     "metadata": {},
     "output_type": "execute_result"
    }
   ],
   "source": [
    "dir(stack)"
   ]
  },
  {
   "cell_type": "code",
   "execution_count": null,
   "id": "6aa453b5-2721-42ea-8420-6cb87e98f88c",
   "metadata": {},
   "outputs": [],
   "source": []
  },
  {
   "cell_type": "code",
   "execution_count": 17,
   "id": "5831c7f7-884e-4df2-81dc-732ca95504e8",
   "metadata": {},
   "outputs": [],
   "source": [
    "stack.append('https://leetcode.com/')\n",
    "stack.append('https://leetcode.com/explore/')\n",
    "stack.append('https://leetcode.com/explore/interview/card/leetcodes-interview-crash-course-data-structures-and-algorithms/')"
   ]
  },
  {
   "cell_type": "code",
   "execution_count": 18,
   "id": "bd57c6d4-4caa-4c0d-8302-52039e1ec319",
   "metadata": {},
   "outputs": [
    {
     "data": {
      "text/plain": [
       "deque(['https://leetcode.com/',\n",
       "       'https://leetcode.com/explore/',\n",
       "       'https://leetcode.com/explore/interview/card/leetcodes-interview-crash-course-data-structures-and-algorithms/'])"
      ]
     },
     "execution_count": 18,
     "metadata": {},
     "output_type": "execute_result"
    }
   ],
   "source": [
    "stack"
   ]
  },
  {
   "cell_type": "code",
   "execution_count": 26,
   "id": "a0cf8903-ba66-4bbf-a582-3784e3c907ca",
   "metadata": {},
   "outputs": [
    {
     "data": {
      "text/plain": [
       "'https://leetcode.com/explore/interview/card/leetcodes-interview-crash-course-data-structures-and-algorithms/'"
      ]
     },
     "execution_count": 26,
     "metadata": {},
     "output_type": "execute_result"
    }
   ],
   "source": [
    "stack.pop()"
   ]
  },
  {
   "cell_type": "code",
   "execution_count": 27,
   "id": "b07977ef-0638-46df-a0d9-77a60d262089",
   "metadata": {},
   "outputs": [
    {
     "data": {
      "text/plain": [
       "deque(['https://leetcode.com/', 'https://leetcode.com/explore/'])"
      ]
     },
     "execution_count": 27,
     "metadata": {},
     "output_type": "execute_result"
    }
   ],
   "source": [
    "stack"
   ]
  },
  {
   "cell_type": "code",
   "execution_count": null,
   "id": "8f0fdcc0-5b49-4725-8b07-3876103632e3",
   "metadata": {},
   "outputs": [],
   "source": []
  },
  {
   "cell_type": "markdown",
   "id": "6fc41d7f-23b4-4943-b81f-cb6cd602fd36",
   "metadata": {},
   "source": [
    "## Creating custom stack "
   ]
  },
  {
   "cell_type": "code",
   "execution_count": 19,
   "id": "e58b05db-b89e-40b3-ace3-46e90361ff69",
   "metadata": {},
   "outputs": [],
   "source": [
    "class Stack:\n",
    "    def __init__(self):\n",
    "        self.data = deque()\n",
    "\n",
    "    def push(self,data):\n",
    "        self.data.append(data)\n",
    "\n",
    "    def pop(self):\n",
    "        return self.data.pop()\n",
    "\n",
    "    def peek(self):\n",
    "        return self.data[-1]\n",
    "\n",
    "    def size(self):\n",
    "        return len(self.data)\n",
    "\n",
    "    def isEmpty(self):\n",
    "        return len(self.data) == 0"
   ]
  },
  {
   "cell_type": "code",
   "execution_count": 20,
   "id": "598c9214-01d3-49f0-b328-050af6d01473",
   "metadata": {},
   "outputs": [],
   "source": [
    "s = Stack()"
   ]
  },
  {
   "cell_type": "code",
   "execution_count": 21,
   "id": "910c3a88-f79c-40a7-9ddb-a4561114ce82",
   "metadata": {},
   "outputs": [],
   "source": [
    "s.push(19)"
   ]
  },
  {
   "cell_type": "code",
   "execution_count": 23,
   "id": "ea5a6988-e609-4890-ac5b-dd5ff7e4e506",
   "metadata": {},
   "outputs": [
    {
     "data": {
      "text/plain": [
       "19"
      ]
     },
     "execution_count": 23,
     "metadata": {},
     "output_type": "execute_result"
    }
   ],
   "source": [
    "s.peek()"
   ]
  },
  {
   "cell_type": "code",
   "execution_count": 24,
   "id": "0189909a-a1fa-4c10-87b4-eeb29d43cdf6",
   "metadata": {},
   "outputs": [
    {
     "data": {
      "text/plain": [
       "False"
      ]
     },
     "execution_count": 24,
     "metadata": {},
     "output_type": "execute_result"
    }
   ],
   "source": [
    "s.isEmpty()"
   ]
  },
  {
   "cell_type": "code",
   "execution_count": 25,
   "id": "982f7a5d-9215-4527-bfd9-9593221f22ad",
   "metadata": {},
   "outputs": [
    {
     "data": {
      "text/plain": [
       "1"
      ]
     },
     "execution_count": 25,
     "metadata": {},
     "output_type": "execute_result"
    }
   ],
   "source": [
    "s.size()"
   ]
  },
  {
   "cell_type": "code",
   "execution_count": null,
   "id": "f9e82165-832b-44ca-807b-56316e173d11",
   "metadata": {},
   "outputs": [],
   "source": []
  },
  {
   "cell_type": "markdown",
   "id": "780edec4-358c-491a-a2e6-3216ad355c0e",
   "metadata": {},
   "source": [
    "## Implementation of Queue "
   ]
  },
  {
   "cell_type": "code",
   "execution_count": 28,
   "id": "62dc3631-d162-4174-ba1f-6228046b41f5",
   "metadata": {},
   "outputs": [],
   "source": [
    "sonata_software_mutual_stock = []"
   ]
  },
  {
   "cell_type": "code",
   "execution_count": 29,
   "id": "8f93afee-1c2a-49e7-835f-a9f5cbc54fa0",
   "metadata": {},
   "outputs": [],
   "source": [
    "sonata_software_mutual_stock.insert(0,12)\n",
    "sonata_software_mutual_stock.insert(0,16)\n",
    "sonata_software_mutual_stock.insert(0,19)"
   ]
  },
  {
   "cell_type": "code",
   "execution_count": 30,
   "id": "a9371967-f53e-4ded-bc14-6b686c32c3da",
   "metadata": {},
   "outputs": [
    {
     "data": {
      "text/plain": [
       "[19, 16, 12]"
      ]
     },
     "execution_count": 30,
     "metadata": {},
     "output_type": "execute_result"
    }
   ],
   "source": [
    "sonata_software_mutual_stock"
   ]
  },
  {
   "cell_type": "code",
   "execution_count": 31,
   "id": "c218e56a-6a37-4ea5-850c-55d2f2ea11ed",
   "metadata": {},
   "outputs": [
    {
     "data": {
      "text/plain": [
       "12"
      ]
     },
     "execution_count": 31,
     "metadata": {},
     "output_type": "execute_result"
    }
   ],
   "source": [
    "sonata_software_mutual_stock.pop()"
   ]
  },
  {
   "cell_type": "code",
   "execution_count": 32,
   "id": "1c256c41-21c4-407d-a472-0a66d7fd79b1",
   "metadata": {},
   "outputs": [
    {
     "data": {
      "text/plain": [
       "[19, 16]"
      ]
     },
     "execution_count": 32,
     "metadata": {},
     "output_type": "execute_result"
    }
   ],
   "source": [
    "sonata_software_mutual_stock"
   ]
  },
  {
   "cell_type": "code",
   "execution_count": 33,
   "id": "a8f12758-9567-44a5-8150-36f4e48f3d9f",
   "metadata": {},
   "outputs": [
    {
     "data": {
      "text/plain": [
       "16"
      ]
     },
     "execution_count": 33,
     "metadata": {},
     "output_type": "execute_result"
    }
   ],
   "source": [
    "sonata_software_mutual_stock.pop()"
   ]
  },
  {
   "cell_type": "code",
   "execution_count": 34,
   "id": "eeb9b979-3ce1-4d14-bddf-6e608e06c35e",
   "metadata": {},
   "outputs": [
    {
     "data": {
      "text/plain": [
       "19"
      ]
     },
     "execution_count": 34,
     "metadata": {},
     "output_type": "execute_result"
    }
   ],
   "source": [
    "sonata_software_mutual_stock.pop()"
   ]
  },
  {
   "cell_type": "code",
   "execution_count": null,
   "id": "fbd2b1ae-dfee-4d8e-a16c-20c67f7ff6fe",
   "metadata": {},
   "outputs": [],
   "source": []
  },
  {
   "cell_type": "markdown",
   "id": "8d3767f2-7a71-44a2-8d4d-a82812293657",
   "metadata": {},
   "source": [
    "## Enqueue Operation using Linked List"
   ]
  },
  {
   "cell_type": "code",
   "execution_count": 35,
   "id": "9afcc9af-37cf-4df0-ba45-37c4d0e8ac0c",
   "metadata": {},
   "outputs": [],
   "source": [
    "from collections import deque\n",
    "q= deque()"
   ]
  },
  {
   "cell_type": "code",
   "execution_count": 36,
   "id": "af808e8c-e930-4431-aad9-23fa5292bd19",
   "metadata": {},
   "outputs": [
    {
     "data": {
      "text/plain": [
       "['__add__',\n",
       " '__class__',\n",
       " '__class_getitem__',\n",
       " '__contains__',\n",
       " '__copy__',\n",
       " '__delattr__',\n",
       " '__delitem__',\n",
       " '__dir__',\n",
       " '__doc__',\n",
       " '__eq__',\n",
       " '__format__',\n",
       " '__ge__',\n",
       " '__getattribute__',\n",
       " '__getitem__',\n",
       " '__getstate__',\n",
       " '__gt__',\n",
       " '__hash__',\n",
       " '__iadd__',\n",
       " '__imul__',\n",
       " '__init__',\n",
       " '__init_subclass__',\n",
       " '__iter__',\n",
       " '__le__',\n",
       " '__len__',\n",
       " '__lt__',\n",
       " '__module__',\n",
       " '__mul__',\n",
       " '__ne__',\n",
       " '__new__',\n",
       " '__reduce__',\n",
       " '__reduce_ex__',\n",
       " '__repr__',\n",
       " '__reversed__',\n",
       " '__rmul__',\n",
       " '__setattr__',\n",
       " '__setitem__',\n",
       " '__sizeof__',\n",
       " '__str__',\n",
       " '__subclasshook__',\n",
       " 'append',\n",
       " 'appendleft',\n",
       " 'clear',\n",
       " 'copy',\n",
       " 'count',\n",
       " 'extend',\n",
       " 'extendleft',\n",
       " 'index',\n",
       " 'insert',\n",
       " 'maxlen',\n",
       " 'pop',\n",
       " 'popleft',\n",
       " 'remove',\n",
       " 'reverse',\n",
       " 'rotate']"
      ]
     },
     "execution_count": 36,
     "metadata": {},
     "output_type": "execute_result"
    }
   ],
   "source": [
    "dir(q)"
   ]
  },
  {
   "cell_type": "code",
   "execution_count": 38,
   "id": "d922b6fa-3d10-43f1-8efd-06bb18f83e24",
   "metadata": {},
   "outputs": [],
   "source": [
    "q.appendleft(12)\n",
    "q.appendleft(12)\n",
    "q.appendleft(16)\n",
    "q.appendleft(19)"
   ]
  },
  {
   "cell_type": "code",
   "execution_count": 39,
   "id": "5670595b-396d-434d-81a1-e5c33b24bbe8",
   "metadata": {},
   "outputs": [
    {
     "data": {
      "text/plain": [
       "deque([19, 16, 12, 12])"
      ]
     },
     "execution_count": 39,
     "metadata": {},
     "output_type": "execute_result"
    }
   ],
   "source": [
    "q"
   ]
  },
  {
   "cell_type": "code",
   "execution_count": 40,
   "id": "174f548a-81c4-43d0-909b-2a2911ee3467",
   "metadata": {},
   "outputs": [
    {
     "data": {
      "text/plain": [
       "12"
      ]
     },
     "execution_count": 40,
     "metadata": {},
     "output_type": "execute_result"
    }
   ],
   "source": [
    "q.pop()"
   ]
  },
  {
   "cell_type": "code",
   "execution_count": 41,
   "id": "14c60a68-41d0-40d1-9533-afc4f4381201",
   "metadata": {},
   "outputs": [
    {
     "data": {
      "text/plain": [
       "12"
      ]
     },
     "execution_count": 41,
     "metadata": {},
     "output_type": "execute_result"
    }
   ],
   "source": [
    "q.pop()"
   ]
  },
  {
   "cell_type": "code",
   "execution_count": 42,
   "id": "0bd6e11a-8588-41de-bd66-b1d189d042fb",
   "metadata": {},
   "outputs": [
    {
     "data": {
      "text/plain": [
       "deque([19, 16])"
      ]
     },
     "execution_count": 42,
     "metadata": {},
     "output_type": "execute_result"
    }
   ],
   "source": [
    "q"
   ]
  },
  {
   "cell_type": "code",
   "execution_count": null,
   "id": "0ea551f4-4247-4f80-b423-adcb9e0e3c99",
   "metadata": {},
   "outputs": [],
   "source": []
  },
  {
   "cell_type": "markdown",
   "id": "0b3ef395-7d72-42d9-8187-9f6312ad5be3",
   "metadata": {},
   "source": [
    "## Create a class of queue with it's method"
   ]
  },
  {
   "cell_type": "code",
   "execution_count": 43,
   "id": "2a5c8235-9968-49b4-a0dc-13a5e7f3c3c0",
   "metadata": {},
   "outputs": [],
   "source": [
    "class Queue:\n",
    "    def __init__(self):\n",
    "        self.buffer = deque()\n",
    "\n",
    "    def enqueue(self, data):\n",
    "        self.buffer.appendleft(data)\n",
    "\n",
    "    def isEmpty(self):\n",
    "        return len(self.buffer) == 0\n",
    "\n",
    "    def size(self):\n",
    "        return len(self.buffer)\n",
    "\n",
    "    def dequeue(self):\n",
    "        return self.buffer.pop()"
   ]
  },
  {
   "cell_type": "code",
   "execution_count": 44,
   "id": "6b9c650e-1e94-43cd-a467-0a7a0f1a0cb4",
   "metadata": {},
   "outputs": [],
   "source": [
    "q = Queue()\n",
    "q.enqueue(12)"
   ]
  },
  {
   "cell_type": "code",
   "execution_count": 45,
   "id": "21b6209a-59da-48be-a3f6-273f2d274038",
   "metadata": {},
   "outputs": [],
   "source": [
    "q.enqueue(16)"
   ]
  },
  {
   "cell_type": "code",
   "execution_count": 46,
   "id": "212d4fd8-1a9f-4aa1-a541-d65c6cf7966c",
   "metadata": {},
   "outputs": [],
   "source": [
    "q.enqueue(19)"
   ]
  },
  {
   "cell_type": "code",
   "execution_count": 47,
   "id": "bd3e0106-daeb-4e68-9a4c-842111e0f8f9",
   "metadata": {},
   "outputs": [
    {
     "data": {
      "text/plain": [
       "3"
      ]
     },
     "execution_count": 47,
     "metadata": {},
     "output_type": "execute_result"
    }
   ],
   "source": [
    "q.size()"
   ]
  },
  {
   "cell_type": "code",
   "execution_count": 48,
   "id": "b5e9e196-1189-48a5-83ab-400a64af85fb",
   "metadata": {},
   "outputs": [
    {
     "data": {
      "text/plain": [
       "12"
      ]
     },
     "execution_count": 48,
     "metadata": {},
     "output_type": "execute_result"
    }
   ],
   "source": [
    "q.dequeue()"
   ]
  },
  {
   "cell_type": "code",
   "execution_count": 49,
   "id": "77acb397-d78f-497c-9126-ed987b766b0b",
   "metadata": {},
   "outputs": [
    {
     "data": {
      "text/plain": [
       "False"
      ]
     },
     "execution_count": 49,
     "metadata": {},
     "output_type": "execute_result"
    }
   ],
   "source": [
    "q.isEmpty()"
   ]
  },
  {
   "cell_type": "code",
   "execution_count": 51,
   "id": "e751cb9c-f96e-495f-9b26-012c469ac134",
   "metadata": {},
   "outputs": [
    {
     "data": {
      "text/plain": [
       "deque([19, 16])"
      ]
     },
     "execution_count": 51,
     "metadata": {},
     "output_type": "execute_result"
    }
   ],
   "source": [
    "q.buffer"
   ]
  },
  {
   "cell_type": "code",
   "execution_count": null,
   "id": "280408c2-2090-48f2-81a3-f1cd17038db5",
   "metadata": {},
   "outputs": [],
   "source": []
  },
  {
   "cell_type": "markdown",
   "id": "1204f632-8a3f-4ca2-b56f-94f8aefd8f35",
   "metadata": {},
   "source": [
    "## Valid Parenthesis"
   ]
  },
  {
   "cell_type": "code",
   "execution_count": 55,
   "id": "763bcaae-078d-4513-bcf6-cd66ef1bbf18",
   "metadata": {},
   "outputs": [
    {
     "name": "stdout",
     "output_type": "stream",
     "text": [
      "string contains an invalid parenthesis\n"
     ]
    }
   ],
   "source": [
    "# method definition \n",
    "def isValidParen(string):\n",
    "    open_param = set([\"(\",\"[\",\"{\"])\n",
    "    dictionary = {\n",
    "        \"(\":\")\",\n",
    "        \"{\":\"}\",\n",
    "        \"[\":\"]\"\n",
    "    }\n",
    "    stack = []\n",
    "    \n",
    "    for char in string:\n",
    "        if char in open_param:\n",
    "            stack.append(char)\n",
    "        elif stack and char == dictionary[stack[-1]]:\n",
    "            stack.pop()\n",
    "        else:\n",
    "            return False\n",
    "    return stack == []\n",
    "    \n",
    "\n",
    "\n",
    "\n",
    "string1 = \"{[]}\"\n",
    "string2 = \"[{(}]\"\n",
    "\n",
    "if isValidParen(string2):\n",
    "    print(\"string contains a valid parenthesis\")\n",
    "else:\n",
    "    print(\"string contains an invalid parenthesis\")"
   ]
  },
  {
   "cell_type": "code",
   "execution_count": null,
   "id": "8449f2cd-3f7f-43b0-bde7-a9dbadd69bf6",
   "metadata": {},
   "outputs": [],
   "source": []
  }
 ],
 "metadata": {
  "kernelspec": {
   "display_name": "Python 3 (ipykernel)",
   "language": "python",
   "name": "python3"
  },
  "language_info": {
   "codemirror_mode": {
    "name": "ipython",
    "version": 3
   },
   "file_extension": ".py",
   "mimetype": "text/x-python",
   "name": "python",
   "nbconvert_exporter": "python",
   "pygments_lexer": "ipython3",
   "version": "3.13.5"
  }
 },
 "nbformat": 4,
 "nbformat_minor": 5
}
